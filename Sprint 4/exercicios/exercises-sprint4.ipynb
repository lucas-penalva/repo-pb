{
 "cells": [
  {
   "cell_type": "markdown",
   "id": "dd040d30-bd5a-42b8-91d0-2c87ace38fb7",
   "metadata": {},
   "source": [
    "# Data & Analytics 4/10 - AWS"
   ]
  },
  {
   "cell_type": "markdown",
   "id": "f9fe47c5-e254-4578-9bcb-3b1ec50268ff",
   "metadata": {},
   "source": [
    "### ex. 1"
   ]
  },
  {
   "cell_type": "code",
   "execution_count": 58,
   "id": "db1d9dc8-c298-418a-afbb-be7949b22639",
   "metadata": {},
   "outputs": [
    {
     "name": "stdout",
     "output_type": "stream",
     "text": [
      "ordem decrescente: [8000, 7998, 7996, 7994, 7994]\n",
      "soma: 39982\n"
     ]
    }
   ],
   "source": [
    "def ler_numeros(file_path):\n",
    "    with open(file_path, 'r') as file:\n",
    "        return list(map(int, file.readlines()))\n",
    "\n",
    "file_path = 'number.txt'\n",
    "\n",
    "numeros = ler_numeros(file_path)\n",
    "\n",
    "numeros_pares = list(filter(lambda x: x % 2 == 0 and 8000 >= x > 7992, numeros))\n",
    "\n",
    "# Ordenar os números pares em ordem decrescente\n",
    "numeros_pares_ordenados = sorted(numeros_pares, reverse=True)\n",
    "\n",
    "# Calcular a soma\n",
    "soma_cinco_maiores = sum(numeros_pares_ordenados)\n",
    "\n",
    "print(\"ordem decrescente:\", numeros_pares_ordenados)\n",
    "print(\"soma:\", soma_cinco_maiores)"
   ]
  },
  {
   "cell_type": "markdown",
   "id": "9621dca1-54bf-483b-9f8d-101df51eb49c",
   "metadata": {},
   "source": [
    "### ex. 2"
   ]
  },
  {
   "cell_type": "code",
   "execution_count": 101,
   "id": "7b2206e6-0296-40f7-b6d9-ebe71befd5a3",
   "metadata": {},
   "outputs": [
    {
     "name": "stdout",
     "output_type": "stream",
     "text": [
      "número de vogais: 14\n"
     ]
    }
   ],
   "source": [
    "# Utilizando high order functions, implemente o corpo da função conta_vogais. O parâmetro de entrada será uma string\n",
    "# e o resultado deverá ser a contagem de vogais presentes em seu conteúdo.\n",
    "\n",
    "# É obrigatório aplicar as seguintes funções:\n",
    "\n",
    "# len\n",
    "# filter\n",
    "# lambda\n",
    "\n",
    "# Desconsidere os caracteres acentuados. Eles não serão utilizados nos testes do seu código.\n",
    "\n",
    "def conta_vogais(string):\n",
    "    vogais = 'aeiouAEIOU'\n",
    "    # funcao len, para ler o tamanho da string\n",
    "    contar_vogais = len(list(filter(lambda x: x in vogais, string)))\n",
    "    return contar_vogais    \n",
    "\n",
    "input = \"Ola mundo, este e um importante teste\"\n",
    "resultado = conta_vogais(input)\n",
    "print(f\"número de vogais: {resultado}\") "
   ]
  },
  {
   "cell_type": "markdown",
   "id": "193031ee-bb73-4978-840e-4b4cf5fc4ba4",
   "metadata": {},
   "source": [
    "### ex. 3"
   ]
  },
  {
   "cell_type": "code",
   "execution_count": 70,
   "id": "f0b32e1b-8d82-4dbc-8b75-df2ab01a91c8",
   "metadata": {},
   "outputs": [],
   "source": [
    "# A função calcula_saldo recebe uma lista de tuplas, correspondendo a um conjunto de lançamentos bancários.\n",
    "# Cada lançamento é composto pelo seu valor (sempre positivo) e pelo seu tipo (C - crédito ou D - débito). \n",
    "\n",
    "# Abaixo apresentando uma possível entrada para a função.\n",
    "\n",
    "# lancamentos = [\n",
    "#     (200,'D'),\n",
    "#     (300,'C'),\n",
    "#     (100,'C')\n",
    "# ]\n",
    "\n",
    "# A partir dos lançamentos, a função deve calcular o valor final, somando créditos e subtraindo débitos. \n",
    "# Na lista anterior, por exemplo, teríamos como resultado final 200.\n",
    "\n",
    "# Além de utilizar lambdas, você deverá aplicar, obrigatoriamente, as seguintes funções na resolução:\n",
    "# - reduce (módulo functools)\n",
    "# - map"
   ]
  },
  {
   "cell_type": "code",
   "execution_count": 84,
   "id": "d99639ee-0173-496a-a02a-484e0bf7f447",
   "metadata": {},
   "outputs": [
    {
     "name": "stdout",
     "output_type": "stream",
     "text": [
      "200\n"
     ]
    }
   ],
   "source": [
    "from functools import reduce\n",
    "\n",
    "def calcula_saldo(lancamentos):    \n",
    "    cs = lambda tipo_pagamento, valor: tipo_pagamento + valor[0] if valor[1] == 'C' else tipo_pagamento - valor[0]\n",
    "    # print(tipo_pagamento, valor)\n",
    "   \n",
    "    valores_lancamentos = map(lambda x: x[0], lancamentos)\n",
    "\n",
    "    # Utiliza a função reduce para calcular o tipo_pagamento final\n",
    "    extrato_final = reduce(cs, lancamentos, 0)\n",
    "\n",
    "    return extrato_final\n",
    "\n",
    "lancamentos = [\n",
    "    (200, 'D'),\n",
    "    (300, 'C'),\n",
    "    (100, 'C')\n",
    "]\n",
    "\n",
    "resultado = calcula_saldo(lancamentos)\n",
    "print(resultado)"
   ]
  },
  {
   "cell_type": "markdown",
   "id": "af120c87-c8eb-41d0-a6ce-282ee8052691",
   "metadata": {},
   "source": [
    "### ex. 4"
   ]
  },
  {
   "cell_type": "code",
   "execution_count": 1,
   "id": "4068bd5c-32cd-48f5-949c-1c722b33f4a6",
   "metadata": {},
   "outputs": [
    {
     "name": "stdout",
     "output_type": "stream",
     "text": [
      "12\n"
     ]
    }
   ],
   "source": [
    "def calcular_valor_maximo(operadores, operandos):\n",
    "    # Mapeando os operadores\n",
    "    calculos = {'+': lambda x, y: x + y,\n",
    "                 '-': lambda x, y: x - y,\n",
    "                 '*': lambda x, y: x * y,\n",
    "                 '/': lambda x, y: x / y,\n",
    "                 '%': lambda x, y: x % y}\n",
    "   \n",
    "    ops = map(lambda val: calculos[val[0]](val[1], val[2]), zip(operadores, *zip(*operandos)))\n",
    "\n",
    "    # Retorna o maior valor usando a função max\n",
    "    return max(ops)\n",
    "\n",
    "operadores = ['+', '-', '*', '/', '+']\n",
    "operandos = [(3, 6), (-7, 4.9), (8, -8), (10, 2), (8, 4)]\n",
    "\n",
    "resultado = calcular_valor_maximo(operadores, operandos)\n",
    "print(resultado)"
   ]
  },
  {
   "cell_type": "markdown",
   "id": "3c452f5c-cfb6-4f8c-bad5-d194b17a69d0",
   "metadata": {},
   "source": [
    "### ex. 5"
   ]
  },
  {
   "cell_type": "code",
   "execution_count": null,
   "id": "66fec050-f69f-428d-b7d0-7bd58281375f",
   "metadata": {},
   "outputs": [],
   "source": [
    "import csv\n",
    "\n",
    "def grade_de_notas(notas):\n",
    "    with open('estudantes.csv', 'r') as file:\n",
    "        lines = sorted(csv.reader(file))\n",
    "        \n",
    "\n",
    "        for l in lines:\n",
    "            nome = l[0]\n",
    "            notas = list(map(int, l[1:]))\n",
    "\n",
    "            notas_principais = sorted(notas, reverse=True)[:3]\n",
    "            tres_maiores = round(sum(notas_principais) / 3, 2)\n",
    "\n",
    "            print(f\"Nome: {nome} Notas: {notas_principais} Média: {tres_maiores}\")\n",
    "            \n",
    "file_path = 'estudantes.csv'\n",
    "grade_de_notas(file_path)"
   ]
  },
  {
   "cell_type": "markdown",
   "id": "20d2207c-ca56-4a73-8f41-2bc177a0bd80",
   "metadata": {},
   "source": [
    "### ex. 6"
   ]
  },
  {
   "cell_type": "code",
   "execution_count": 99,
   "id": "cc738817-66e3-48ca-b20a-a5f496ea101a",
   "metadata": {},
   "outputs": [
    {
     "name": "stdout",
     "output_type": "stream",
     "text": [
      "[('feijão', 3.49), ('arroz', 4.99)]\n"
     ]
    }
   ],
   "source": [
    "\"\"\"Utilitário - https://www.youtube.com/watch?v=2V9jeJDGpMk\"\"\"\n",
    "\n",
    "def maiores_que_media(conteudo: dict) -> list:\n",
    "    prices = sum(conteudo.values()) / len(conteudo)\n",
    "    \n",
    "   # extrair a partir do segundo elemento do dicionario os preços dos produtos. se o preço for maior que a media, a funcao retorna o nome do pdt e valor\n",
    "    pdct_over_media = [(produto, preco) for produto, preco in sorted(conteudo.items(), key=lambda x: x[1]) if preco > prices]\n",
    "\n",
    "    return pdct_over_media\n",
    "    \n",
    "produtos = {\n",
    "    \"arroz\": 4.99,\n",
    "    \"feijão\": 3.49,\n",
    "    \"macarrão\": 2.99,\n",
    "    \"leite\": 3.29,\n",
    "    \"pão\": 1.99\n",
    "} \n",
    "\n",
    "resultado = maiores_que_media(produtos)\n",
    "print(resultado)"
   ]
  },
  {
   "cell_type": "markdown",
   "id": "ff43accd-dfe9-4671-a409-2fb93ce180f4",
   "metadata": {},
   "source": [
    "### ex. 7"
   ]
  },
  {
   "cell_type": "code",
   "execution_count": 1,
   "id": "f4b451a3-6c6c-426d-a55d-6f01f18bc0c4",
   "metadata": {},
   "outputs": [
    {
     "data": {
      "text/plain": [
       "8"
      ]
     },
     "execution_count": 1,
     "metadata": {},
     "output_type": "execute_result"
    }
   ],
   "source": [
    "# Generators são poderosos recursos da linguagem Python. Neste exercício, você deverá criar o corpo de uma função,\n",
    "# cuja assinatura já consta em seu arquivo de início (def pares_ate(n:int):).\n",
    "\n",
    "# O objetivo da função pares_ate é retornar um generator para os valores pares no intervalo [2,n].\n",
    "# Observe que n representa o valor do parâmetro informado na chamada da função.\n",
    "\n",
    "\"\"\"https://www.youtube.com/watch?v=ZjwZ9nfhsk4&t=2751s\"\"\"\n",
    "\n",
    "def pares_ate(n:int):\n",
    "    n = 2\n",
    "    while True:\n",
    "        yield n\n",
    "        n += 2       \n",
    "        \n",
    "pares = pares_ate(2)\n",
    "\n",
    "next(pares)\n",
    "next(pares)\n",
    "next(pares)\n",
    "next(pares)"
   ]
  }
 ],
 "metadata": {
  "kernelspec": {
   "display_name": "Python 3 (ipykernel)",
   "language": "python",
   "name": "python3"
  },
  "language_info": {
   "codemirror_mode": {
    "name": "ipython",
    "version": 3
   },
   "file_extension": ".py",
   "mimetype": "text/x-python",
   "name": "python",
   "nbconvert_exporter": "python",
   "pygments_lexer": "ipython3",
   "version": "3.9.18"
  }
 },
 "nbformat": 4,
 "nbformat_minor": 5
}
