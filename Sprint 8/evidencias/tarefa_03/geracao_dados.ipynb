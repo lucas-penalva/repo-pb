{
 "cells": [
  {
   "cell_type": "markdown",
   "id": "bbb010fd-589d-4819-b41c-ccf1da512d9a",
   "metadata": {},
   "source": [
    "# Data & Analytics - AWS 8/10"
   ]
  },
  {
   "cell_type": "markdown",
   "id": "51960f3e-6ee5-4d8a-82f5-893e187c4d4b",
   "metadata": {},
   "source": [
    "_1. Em Python, declare e inicialize uma lista contendo 250 inteiros obtidos de forma aleatória. Após, aplicar o método reverse sobre o conteúdo da lista e imprimir o resultado._"
   ]
  },
  {
   "cell_type": "code",
   "execution_count": 9,
   "id": "62f56a6c-e22b-4a3e-ac3f-72d4206393e2",
   "metadata": {},
   "outputs": [
    {
     "name": "stdout",
     "output_type": "stream",
     "text": [
      "[39, 87, 236, 48, 116, 128, 60, 3, 26, 65, 224, 60, 198, 181, 65, 209, 143, 157, 30, 219, 184, 110, 153, 102, 60, 24, 133, 208, 16, 156, 156, 137, 146, 52, 146, 1, 37, 79, 250, 227, 12, 130, 225, 221, 220, 232, 119, 36, 180, 150, 179, 107, 225, 204, 7, 170, 59, 132, 107, 88, 186, 7, 58, 43, 204, 21, 202, 166, 193, 138, 111, 54, 10, 8, 117, 20, 196, 242, 214, 165, 207, 249, 186, 145, 215, 92, 202, 3, 159, 213, 92, 232, 102, 66, 3, 134, 200, 41, 248, 59, 31, 41, 17, 54, 100, 90, 199, 235, 51, 196, 157, 30, 60, 135, 233, 115, 126, 51, 126, 22, 193, 112, 95, 129, 97, 6, 38, 86, 220, 20, 169, 118, 232, 103, 40, 137, 182, 43, 11, 182, 228, 80, 175, 169, 136, 8, 113, 100, 138, 222, 233, 69, 250, 13, 35, 220, 5, 236, 15, 13, 193, 237, 184, 20, 43, 65, 52, 244, 102, 206, 102, 208, 196, 168, 205, 235, 41, 42, 79, 101, 54, 90, 231, 187, 145, 56, 155, 218, 231, 76, 33, 54, 108, 241, 170, 5, 53, 13, 170, 51, 223, 210, 84, 94, 92, 213, 12, 217, 97, 70, 42, 3, 97, 108, 195, 76, 138, 228, 182, 222, 171, 206, 91, 245, 116, 1, 114, 74, 127, 2, 134, 43, 231, 96, 34, 129, 230, 56, 82, 64, 5, 121, 93, 115, 79, 33, 131, 211, 149, 125]\n"
     ]
    }
   ],
   "source": [
    "import random\n",
    "\n",
    "# Gera uma lista de 250 inteiros aleatórios\n",
    "lista = [random.randint(1, 251) for i in range(250)]\n",
    "\n",
    "# Inverte a lista\n",
    "lista.reverse()\n",
    "\n",
    "print(lista)"
   ]
  },
  {
   "cell_type": "markdown",
   "id": "b4065e06-e2a3-4cc2-8038-d742ac776b06",
   "metadata": {},
   "source": [
    "_2. Em Python, declare e inicialize uma lista contendo o nome de 20 animais. Ordene-os em ordem crescente e itere sobre os itens,\n",
    "imprimindo um a um (você pode utilizar list comprehension aqui).\n",
    "Na sequência, armazene o conteúdo da lista em um arquivo de texto, um item em cada linha, no formato CSV._"
   ]
  },
  {
   "cell_type": "code",
   "execution_count": 4,
   "id": "788263b6-1c6e-49d7-831f-d042954f1410",
   "metadata": {},
   "outputs": [
    {
     "name": "stdout",
     "output_type": "stream",
     "text": [
      "borboleta\n",
      "cachorro\n",
      "coelho\n",
      "formiga\n",
      "gato\n",
      "girafa\n",
      "hamster\n",
      "hiena\n",
      "jaguar\n",
      "lagarta\n",
      "lobo\n",
      "macaco\n",
      "mosquito\n",
      "papagaio\n",
      "pardal\n",
      "peixe\n",
      "rato\n",
      "rinoceronte\n",
      "tartatuga\n",
      "zebra\n"
     ]
    }
   ],
   "source": [
    "# criando lista de animais\n",
    "lista = ['peixe', 'macaco', 'rinoceronte', 'tartatuga', 'coelho',\n",
    "         'formiga', 'cachorro', 'gato', 'hamster', 'rato', 'hiena',\n",
    "         'zebra', 'girafa', 'papagaio', 'borboleta', 'lobo', 'jaguar',\n",
    "         'pardal', 'lagarta', 'mosquito']\n",
    "\n",
    "# ordernando a lista em ordem crescente\n",
    "animals_ordered = sorted(lista)\n",
    "\n",
    "[print(animal) for animal in animals_ordered]\n",
    "\n",
    "# enviando os nomes dos animais para um arquivo CSV\n",
    "with open('animais.csv', 'w', encoding='utf-8') as output_file:\n",
    "    for animal in animals_ordered:\n",
    "        output_file.write(animal + '\\n')"
   ]
  },
  {
   "cell_type": "markdown",
   "id": "c3b1ba25-508f-4728-ba09-0042b2feb8bd",
   "metadata": {},
   "source": [
    "3. _Laboratório_"
   ]
  },
  {
   "cell_type": "code",
   "execution_count": 30,
   "id": "d173a641-d120-485b-aed2-a47c6bd3ef8a",
   "metadata": {},
   "outputs": [
    {
     "name": "stdout",
     "output_type": "stream",
     "text": [
      "Gerando 10000000 nomes aleatórios\n",
      "Tempo total de geração: 9.51 segundos\n",
      "Arquivo criado em: C:\\Users\\lucas\\Documents\\repos\\ds-pwpy\\nomes_aleatorios.txt\n"
     ]
    }
   ],
   "source": [
    "import names\n",
    "import random\n",
    "import os\n",
    "import time\n",
    "\n",
    "# Inicializando o algoritmo responsável pela geração de valores randômicos\n",
    "random.seed(40)\n",
    "\n",
    "qtd_nomes_unicos = 3000\n",
    "qtd_nomes_aleatorios = 10000000\n",
    "\n",
    "# Lista para armazenar os nomes únicos\n",
    "nomes_unicos = []\n",
    "\n",
    "# Gerando nomes únicos\n",
    "for i in range(qtd_nomes_unicos):\n",
    "    nomes_unicos.append(names.get_full_name())\n",
    "\n",
    "print(\"Gerando {} nomes aleatórios\".format(qtd_nomes_aleatorios))\n",
    "\n",
    "dados = []\n",
    "\n",
    "# Gerando nomes aleatórios com base nos nomes únicos\n",
    "start_time = time.time()  # tempo de início\n",
    "for i in range(qtd_nomes_aleatorios):\n",
    "    dados.append(random.choice(nomes_unicos))\n",
    "end_time = time.time()  # tempo de término\n",
    "\n",
    "# tempo total de geração dos nomes\n",
    "tempo_total = end_time - start_time\n",
    "print(\"Tempo total de geração: {:.2f} segundos\".format(tempo_total))\n",
    "\n",
    "# escrevendo os nomes aleatórios no arquivo de texto\n",
    "arquivo_path = os.path.join(os.getcwd(), 'nomes_aleatorios.txt')\n",
    "with open(file_path, 'w') as output_file:\n",
    "    for nome in dados:\n",
    "        output_file.write(nome + '\\n')\n",
    "\n",
    "print(\"Arquivo criado em:\", file_path)"
   ]
  }
 ],
 "metadata": {
  "kernelspec": {
   "display_name": "Python 3 (ipykernel)",
   "language": "python",
   "name": "python3"
  },
  "language_info": {
   "codemirror_mode": {
    "name": "ipython",
    "version": 3
   },
   "file_extension": ".py",
   "mimetype": "text/x-python",
   "name": "python",
   "nbconvert_exporter": "python",
   "pygments_lexer": "ipython3",
   "version": "3.8.13"
  }
 },
 "nbformat": 4,
 "nbformat_minor": 5
}
