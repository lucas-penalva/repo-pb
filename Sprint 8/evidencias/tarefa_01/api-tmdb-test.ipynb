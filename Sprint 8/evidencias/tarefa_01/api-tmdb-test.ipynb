{
 "cells": [
  {
   "cell_type": "code",
   "execution_count": 4,
   "id": "6ebb7675-5d98-410a-99a2-705fed5c14fe",
   "metadata": {},
   "outputs": [
    {
     "data": {
      "text/html": [
       "<div>\n",
       "<style scoped>\n",
       "    .dataframe tbody tr th:only-of-type {\n",
       "        vertical-align: middle;\n",
       "    }\n",
       "\n",
       "    .dataframe tbody tr th {\n",
       "        vertical-align: top;\n",
       "    }\n",
       "\n",
       "    .dataframe thead th {\n",
       "        text-align: right;\n",
       "    }\n",
       "</style>\n",
       "<table border=\"1\" class=\"dataframe\">\n",
       "  <thead>\n",
       "    <tr style=\"text-align: right;\">\n",
       "      <th></th>\n",
       "      <th>Titulo</th>\n",
       "      <th>Data de lançamento</th>\n",
       "      <th>Visão geral</th>\n",
       "      <th>Votos</th>\n",
       "      <th>Média de votos:</th>\n",
       "    </tr>\n",
       "  </thead>\n",
       "  <tbody>\n",
       "    <tr>\n",
       "      <th>0</th>\n",
       "      <td>Os Sete Samurais</td>\n",
       "      <td>1954-04-26</td>\n",
       "      <td>No século XVI, durante a era Sengoku, quando o...</td>\n",
       "      <td>3433</td>\n",
       "      <td>8.453</td>\n",
       "    </tr>\n",
       "  </tbody>\n",
       "</table>\n",
       "</div>"
      ],
      "text/plain": [
       "             Titulo Data de lançamento  \\\n",
       "0  Os Sete Samurais         1954-04-26   \n",
       "\n",
       "                                         Visão geral  Votos  Média de votos:  \n",
       "0  No século XVI, durante a era Sengoku, quando o...   3433            8.453  "
      ]
     },
     "metadata": {},
     "output_type": "display_data"
    }
   ],
   "source": [
    "import requests\n",
    "import pandas as pd\n",
    "from IPython.display import display\n",
    "from dotenv import load_dotenv\n",
    "\n",
    "load_dotenv()\n",
    "\n",
    "api_key = os.getenv(\"api_key\")\n",
    "\n",
    "url = f\"https://api.themoviedb.org/3/movie/top_rated?api_key={api_key}&language=pt-BR\"\n",
    "\n",
    "response = requests.get(url)\n",
    "data = response.json()\n",
    "\n",
    "filmes = []\n",
    "\n",
    "for movie in data['results']:\n",
    "    df = {'Titulo': movie['title'],\n",
    "          'Data de lançamento': movie['release_date'],\n",
    "          'Visão geral': movie['overview'],\n",
    "          'Votos': movie['vote_count'],\n",
    "          'Média de votos:': movie['vote_average']}\n",
    "    \n",
    "filmes.append(df)\n",
    "\n",
    "df = pd.DataFrame(filmes)\n",
    "display(df)"
   ]
  }
 ],
 "metadata": {
  "kernelspec": {
   "display_name": "Python 3 (ipykernel)",
   "language": "python",
   "name": "python3"
  },
  "language_info": {
   "codemirror_mode": {
    "name": "ipython",
    "version": 3
   },
   "file_extension": ".py",
   "mimetype": "text/x-python",
   "name": "python",
   "nbconvert_exporter": "python",
   "pygments_lexer": "ipython3",
   "version": "3.8.13"
  }
 },
 "nbformat": 4,
 "nbformat_minor": 5
}
