{
 "cells": [
  {
   "cell_type": "markdown",
   "id": "79b38e53",
   "metadata": {
    "heading_collapsed": true
   },
   "source": [
    "## Description Columns"
   ]
  },
  {
   "cell_type": "markdown",
   "id": "cfcb2c5f",
   "metadata": {
    "hidden": true
   },
   "source": [
    "Actor: Nome do ator.\n",
    "\n",
    "Total Gross:  Receita bruta de bilheteria doméstica, em milhões de dólares, de todos os filmes do ator.\n",
    "\n",
    "Number of movies: Número de filmes em que o ator participou\n",
    "\n",
    "Average per Movie: Corresponde à bilheteria bruta dividida pelo número de filmes\n",
    "\n",
    "#1 Movie: Filme de maior receita bruta em que o ator participou\n",
    "\n",
    "Gross: Receita bruta de bilheteria doméstica, em milhões de dólares, do filme de maior receita."
   ]
  },
  {
   "cell_type": "markdown",
   "id": "999fd578",
   "metadata": {
    "heading_collapsed": true
   },
   "source": [
    "## Questions"
   ]
  },
  {
   "cell_type": "markdown",
   "id": "60877f83",
   "metadata": {
    "hidden": true
   },
   "source": [
    "1. Apresente o ator/atriz com maior número de filmes e a respectiva quantidade. A quantidade de filmes encontra-se na coluna Number of Movies do arquivo.\n",
    "\n",
    "\n",
    "2. Apresente a média de receita de bilheteria bruta dos principais filmes, considerando todos os atores. Estamos falando aqui da média da coluna Gross.\n",
    "\n",
    "\n",
    "3. Apresente o ator/atriz com a maior média de receita de bilheteria bruta por filme do conjunto de dados. Considere a coluna Avarage per Movie para fins de cálculo.\n",
    "\n",
    "\n",
    "4. A coluna #1 Movie contém o filme de maior bilheteria em que o ator atuou. Realize a contagem de aparições destes filmes no dataset, listando-os ordenados pela quantidade de vezes em que estão presentes. Considere a ordem decrescente e, em segundo nível, o nome do  filme.\n",
    "\n",
    "Ao escrever no arquivo, considere o padrão de saída <sequencia> - O filme <nome filme> aparece <quantidade> vez(es) no dataset, adicionando um resultado a cada linha.\n",
    "    \n",
    "5. Apresente a lista dos atores ordenada pela receita bruta de bilheteria de seus filmes (coluna Total Gross), em ordem decrescente.\n",
    "    \n",
    "Ao escrever no arquivo, considere o padrão de saída <nome do ator> -  <receita total bruta>, adicionando um resultado a cada linha."
   ]
  },
  {
   "cell_type": "markdown",
   "id": "3fe256c5",
   "metadata": {},
   "source": [
    "# Resolutions"
   ]
  },
  {
   "cell_type": "markdown",
   "id": "52cd2090",
   "metadata": {
    "heading_collapsed": true
   },
   "source": [
    "### Question 1"
   ]
  },
  {
   "cell_type": "code",
   "execution_count": 51,
   "id": "9d7bbfeb",
   "metadata": {
    "ExecuteTime": {
     "end_time": "2024-01-17T20:16:47.255820Z",
     "start_time": "2024-01-17T20:16:47.210834Z"
    },
    "hidden": true
   },
   "outputs": [
    {
     "name": "stdout",
     "output_type": "stream",
     "text": [
      "Ator com maior quantidade de filmes é Robert DeNiro com 79 filmes.\n"
     ]
    }
   ],
   "source": [
    "file_name = 'dataset/actors.csv'\n",
    "\n",
    "# variáveis para armazenar a maior quantidade de filmes e o nome do ator\n",
    "max_movies = 0\n",
    "actor_max_movies = ''\n",
    "\n",
    "# abrir o arquivo em modo binário para evitar problemas com a codificação\n",
    "with open(file_name, 'rb') as file:\n",
    "    # ler linhas do arquivo\n",
    "    lines = file.read().decode(\"utf-8\").splitlines()\n",
    "\n",
    "    # iterar sobre as linhas (a partir da segunda linha, pois a primeira é o cabeçalho)\n",
    "    for line in lines[1:]:\n",
    "        # dividir a linha em colunas usando a vírgula como delimitador\n",
    "        colunas = line.split(',')\n",
    "\n",
    "        # Processar cada coluna (remover espaços em branco)\n",
    "        for i in range(len(colunas)):\n",
    "            colunas[i] = colunas[i].strip()\n",
    "\n",
    "        # extraindo a quantidade de filmes\n",
    "        num_movies = int(colunas[-4])\n",
    "\n",
    "        # verificando se a quantidade de filmes é maior que a quantidade máxima registrada\n",
    "        if num_movies > max_movies:\n",
    "            max_movies = num_movies\n",
    "            actor_max_movies = colunas[0]\n",
    "            \n",
    "print(f'Ator com maior quantidade de filmes é {actor_max_movies} com {max_movies} filmes.')\n",
    "\n",
    "# arquivo de saída\n",
    "# with open('etapa-1.txt', 'w', encoding=\"utf-8\") as exit_file:\n",
    "#     exit_file.write(f'Ator com maior quantidade de filmes é {actor_max_movies} com {max_movies} filmes.')"
   ]
  },
  {
   "cell_type": "markdown",
   "id": "f5a4d09b",
   "metadata": {
    "heading_collapsed": true
   },
   "source": [
    "### Question 2"
   ]
  },
  {
   "cell_type": "code",
   "execution_count": 52,
   "id": "086c1377",
   "metadata": {
    "ExecuteTime": {
     "end_time": "2024-01-17T20:16:51.637149Z",
     "start_time": "2024-01-17T20:16:51.596148Z"
    },
    "hidden": true
   },
   "outputs": [
    {
     "name": "stdout",
     "output_type": "stream",
     "text": [
      "Média de receita bruta de bilheteria dos principais filmes em relação a todos atores: $428.69 milhões de dólares\n"
     ]
    }
   ],
   "source": [
    "# inicializando variáveis para armazenar valores\n",
    "lista_colunas = []\n",
    "lista_gross = []\n",
    "lista_gross_clean = []\n",
    "lista_gross_total = []\n",
    "num_actors = 0\n",
    "\n",
    "# abrir o arquivo em modo leitura\n",
    "with open(file_name, 'rb') as file:\n",
    "    \n",
    "    # ler linhas do arquivo\n",
    "    lines = file.read().decode(\"utf-8\").splitlines()\n",
    "\n",
    "#Iterando sobre os dados a partir da segunda linha, para pular o cabeçalho\n",
    "    for line in lines[1:]:\n",
    "    # dividir a linha em colunas usando a vírgula como delimitador\n",
    "        columns = line.split(',')\n",
    "#         print(colunas)\n",
    "        lista_colunas.append(columns)\n",
    "#         print(lista_colunas)\n",
    "\n",
    "    for i in lista_colunas:\n",
    "        a = i[-1]  # extrair valores da coluna gross a = i[-1](indice da coluna)      \n",
    "        lista_gross.append(a)\n",
    "\n",
    "    for j in lista_gross:\n",
    "        b = j.replace(' \\n','') # substituindo caracteres indesejaveis\n",
    "        lista_gross_clean.append(b)\n",
    "#         print(lista_gross_clean)\n",
    "\n",
    "    lista_gross_clean[-1] = lista_gross_clean[-1].replace(' ','')\n",
    "#     print(lista_gross_clean[-1])\n",
    "\n",
    "# acumulando a receita bruta e contando o número de atores\n",
    "    for k in lista_gross_clean:        \n",
    "        gross = float(k)\n",
    "#         print(gross)\n",
    "        \n",
    "        lista_gross_total.append(gross)\n",
    "#         print(lista_gross_total)\n",
    "        num_actors += 1\n",
    "\n",
    "#     print('\\n')\n",
    "#     print(lista_gross_total)\n",
    "#     print('\\n')\n",
    "#     print(sum(lista_gross_total))\n",
    "#     print(num_actors)\n",
    "#     print('\\n')\n",
    "\n",
    "# calculando a média\n",
    "average_gross = sum(lista_gross_total) / num_actors\n",
    "\n",
    "print(f'Média de receita bruta de bilheteria dos principais filmes em relação a todos atores: ${average_gross:.2f} milhões de dólares')\n",
    "\n",
    "# with open('etapa-2.txt', 'w', encoding=\"utf-8\") as exit_file:\n",
    "#     exit_file.write(f'Média de receita bruta de bilheteria dos principais filmes '\n",
    "#     f'em relação a todos atores: ${average_gross:.2f} milhões de dólares')"
   ]
  },
  {
   "cell_type": "markdown",
   "id": "2f67380c",
   "metadata": {
    "heading_collapsed": true
   },
   "source": [
    "### Question 3"
   ]
  },
  {
   "cell_type": "code",
   "execution_count": 53,
   "id": "a534fe75",
   "metadata": {
    "ExecuteTime": {
     "end_time": "2024-01-17T20:16:56.227674Z",
     "start_time": "2024-01-17T20:16:56.210673Z"
    },
    "hidden": true
   },
   "outputs": [
    {
     "name": "stdout",
     "output_type": "stream",
     "text": [
      "O ator Anthony Daniels obteve a maior média de receita de bilheteria bruta por filme, no valor de $451.8 milhões de dólares\n"
     ]
    }
   ],
   "source": [
    "file_name = 'dataset/actors.csv'\n",
    "\n",
    "# variaveis para armazenar os valores\n",
    "ator_media_bruta = ''\n",
    "max_media = 0\n",
    "\n",
    "with open(file_name, 'r', encoding='utf-8') as file:\n",
    "    \n",
    "    # ler linhas do arquivo\n",
    "    header = file.readline().strip().split(',')\n",
    "    # acessando o nome da coluna pelo metodo index  \n",
    "    actor_idx, avgp_idx = header.index('Actor'), header.index('Average per Movie')  \n",
    "\n",
    "    # iterando sobre o dataset\n",
    "    for line in file:\n",
    "        columns = [l.strip() for l in line.split(',')]\n",
    "        actor_name, avgp_movie = columns[actor_idx], float(columns[avgp_idx])\n",
    "        \n",
    "        # Verificar se a quantidade média de receita por filme é maior que a quantidade média máxima registrada\n",
    "        if avgp_movie > max_media:\n",
    "            ator_media_bruta, max_media = actor_name, avgp_movie\n",
    "            \n",
    "print(f'O ator {ator_media_bruta} obteve a maior média de receita de bilheteria bruta por filme, no valor de ${max_media} milhões de dólares')\n",
    "\n",
    "# with open('etapa-3.txt', 'w', encoding='utf-8') as exit_file:\n",
    "#     exit_file.write(\n",
    "#         f'O ator {ator_media_bruta} obteve a maior média de receita de bilheteria bruta por filme, no valor de ${max_media} milhões de dólares')"
   ]
  },
  {
   "cell_type": "markdown",
   "id": "731195f7",
   "metadata": {
    "heading_collapsed": true
   },
   "source": [
    "### Question 4"
   ]
  },
  {
   "cell_type": "code",
   "execution_count": 54,
   "id": "8883fa73",
   "metadata": {
    "ExecuteTime": {
     "end_time": "2024-01-17T20:17:02.408999Z",
     "start_time": "2024-01-17T20:17:02.364008Z"
    },
    "hidden": true
   },
   "outputs": [],
   "source": [
    "# definindo classe para atores\n",
    "class actorsCsv:\n",
    "    def __init__(self, file_name):\n",
    "        self.file_name = file_name\n",
    "        self.movie_count = {}\n",
    "        \n",
    "    # funcao para remoção de aspas\n",
    "    def rm_comma(self, data):\n",
    "        quotes = False\n",
    "        final_result = []\n",
    "\n",
    "        for v in data:\n",
    "            if v == '\"':\n",
    "                quotes = not quotes\n",
    "            elif v == ',' and quotes:\n",
    "                continue\n",
    "            final_result.append(v)\n",
    "\n",
    "        return ''.join(final_result)\n",
    "    \n",
    "    # criando instancias da classe actors\n",
    "    def process_file(self):\n",
    "        with open(self.file_name, 'r', newline=\"\", encoding='utf-8') as file:\n",
    "            \n",
    "            # Ler linhas do arquivo\n",
    "            linhas = file.readline().strip().split(',')\n",
    "\n",
    "            for linha in file:\n",
    "                # chamando funcao para remover espaços em branco, quebras de linha e utilizando a virgula como delimitador\n",
    "                columns = self.rm_comma(linha).strip().split(',')\n",
    "#                 print(columns)\n",
    "\n",
    "                if len(linhas) > 1:\n",
    "                    movie = columns[4].strip()\n",
    "#                     print(movie)\n",
    "            # fazendo a contagem dos filmes, se o filme naõ estiver no dicionario, é inserido com valor 1. O metodo get(), devolve o valor atrelado à 'key' movie se ela existir no dicionario, caso não, devolve 0\n",
    "                    self.movie_count[movie] = self.movie_count.get(movie, 0) + 1\n",
    "\n",
    "    def report(self, output_file):\n",
    "        # convertendo os valores do dicionario em uma tupla, utilizando metodo items(). Apos isso, é aplicada uma funcao lambda, para percorrer o dicionario linha a linha, ordenando os valores em ordem decresente\n",
    "        ordered_movies = sorted(self.movie_count.items(), key=lambda x: (-x[1], x[0]))\n",
    "#         print(ordered_movies)\n",
    "\n",
    "        with open(output_file, 'w') as exit_file:\n",
    "            count = 1\n",
    "            for movie, qtd in ordered_movies:\n",
    "                exit_file.write(\n",
    "                    f'{count} - O filme \"{movie}\" aparece {qtd} vez(es) no dataset.\\n')\n",
    "                count += 1\n",
    "\n",
    "file_name = 'dataset/actors.csv'\n",
    "output_file = 'etapa-4.txt'\n",
    "\n",
    "processador = actorsCsv(file_name)\n",
    "processador.process_file()\n",
    "processador.report(output_file)"
   ]
  },
  {
   "cell_type": "markdown",
   "id": "53b8561d",
   "metadata": {
    "heading_collapsed": true
   },
   "source": [
    "### Question 5"
   ]
  },
  {
   "cell_type": "code",
   "execution_count": 55,
   "id": "31ffcc6b",
   "metadata": {
    "ExecuteTime": {
     "end_time": "2024-01-17T20:17:09.092935Z",
     "start_time": "2024-01-17T20:17:09.064215Z"
    },
    "hidden": true
   },
   "outputs": [],
   "source": [
    "file_name = 'dataset/actors.csv'\n",
    "\n",
    "quotes = False\n",
    "final_data = []\n",
    "df = []\n",
    "\n",
    "with open(file_name, 'r', newline=\"\", encoding='utf-8') as file:\n",
    "    header = file.readline().strip().split(',')\n",
    "    actor_index = header.index('Actor')\n",
    "    total_gross_index = header.index('Total Gross')\n",
    "\n",
    "    for linha in file:\n",
    "        i = 0\n",
    "        line_length = len(linha)\n",
    "        while i < line_length:\n",
    "            v = linha[i]\n",
    "#             print(v)\n",
    "            if v == '\"':\n",
    "                quotes = not quotes\n",
    "            elif v == ',' and quotes:\n",
    "                i += 1\n",
    "                continue\n",
    "            final_data.append(v)\n",
    "            i += 1\n",
    "\n",
    "        new_data = ''.join(final_data)\n",
    "#         print(new_data)\n",
    "        row_data = new_data.strip().split(',')\n",
    "        actor = row_data[actor_index]\n",
    "        total_gross = row_data[total_gross_index]\n",
    "        df.append([actor, total_gross])\n",
    "#         print(df)\n",
    "        final_data = []\n",
    "        \n",
    "# Aplicando a funcao lambda para ordenar os valores. O lambda recebe um argumento x (que representa cada elemento da lista df) e devolve float(x[1]). Assim, a ordenação será feita com base nos valores convertidos para float, presentes na segunda posição (índice 1 - Total Gross).\n",
    "df.sort(key=lambda x: float(x[1]), reverse=True) # parametro 'reverse = True', para colocar os valores em ordem decrescente\n",
    "\n",
    "with open('etapa-5.txt', 'w') as exit_file:\n",
    "    exit_file.write(f'Actor - Total Gross\\n')\n",
    "    for linha in df:\n",
    "        actor = linha[0] # extraindo nome dos atores pela coluna 'Actor'\n",
    "        tg = linha[1] # extraindo valores da coluna Total Gross\n",
    "        exit_file.write(f'{actor} - {tg}\\n')"
   ]
  }
 ],
 "metadata": {
  "kernelspec": {
   "display_name": "Python 3 (ipykernel)",
   "language": "python",
   "name": "python3"
  },
  "language_info": {
   "codemirror_mode": {
    "name": "ipython",
    "version": 3
   },
   "file_extension": ".py",
   "mimetype": "text/x-python",
   "name": "python",
   "nbconvert_exporter": "python",
   "pygments_lexer": "ipython3",
   "version": "3.8.13"
  }
 },
 "nbformat": 4,
 "nbformat_minor": 5
}
