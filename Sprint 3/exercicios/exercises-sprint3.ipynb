{
 "cells": [
  {
   "cell_type": "markdown",
   "id": "807ad663",
   "metadata": {
    "heading_collapsed": true
   },
   "source": [
    "# Section 3. (1 to 5) - AWS 3/10"
   ]
  },
  {
   "cell_type": "markdown",
   "id": "1dc2c549",
   "metadata": {
    "heading_collapsed": true,
    "hidden": true
   },
   "source": [
    "### ex. 1"
   ]
  },
  {
   "cell_type": "code",
   "execution_count": 16,
   "id": "a225ab5a",
   "metadata": {
    "ExecuteTime": {
     "end_time": "2024-01-17T13:38:36.013096Z",
     "start_time": "2024-01-17T13:38:31.135472Z"
    },
    "hidden": true
   },
   "outputs": [
    {
     "name": "stdout",
     "output_type": "stream",
     "text": [
      "Digite seu nome: Fulano\n",
      "Digite sua idade atual: 25\n",
      "2099\n"
     ]
    }
   ],
   "source": [
    "# Desenvolva um código Python que lê do teclado nome e a idade atual de uma pessoa. Como saída, imprima o ano em que a pessoa completará 100 anos de idade.\n",
    "\n",
    "from datetime import datetime\n",
    "\n",
    "nome = str(input(\"Digite seu nome: \"))\n",
    "idade_atual = int(input(\"Digite sua idade atual: \"))\n",
    "\n",
    "# extraindo o ano com a funcao datetime\n",
    "ano_atual = datetime.now().year \n",
    "\n",
    "cem_anos = ano_atual + (100 - idade_atual)\n",
    "\n",
    "print(f\"{cem_anos}\")"
   ]
  },
  {
   "cell_type": "markdown",
   "id": "5efec912",
   "metadata": {
    "heading_collapsed": true,
    "hidden": true
   },
   "source": [
    "### ex. 2"
   ]
  },
  {
   "cell_type": "code",
   "execution_count": 3,
   "id": "86488a14",
   "metadata": {
    "ExecuteTime": {
     "end_time": "2024-01-17T12:53:07.552259Z",
     "start_time": "2024-01-17T12:53:04.394015Z"
    },
    "hidden": true
   },
   "outputs": [
    {
     "name": "stdout",
     "output_type": "stream",
     "text": [
      "Digite o 1º número: 2\n",
      "Digite o 2º número: 3\n",
      "Digite o 3º número: 4\n",
      "Par: 2\n",
      "Ímpar: 3\n",
      "Par: 4\n"
     ]
    }
   ],
   "source": [
    "# Escreva um código Python para verificar se três números digitados na entrada padrão são pares ou ímpares. Para cada número, imprima como saída Par: ou Ímpar: e o número correspondente (um linha para cada número lido).        \n",
    "# Importante: Aplique a função range() em seu código.        \n",
    "\n",
    "# dados de entrada\n",
    "numeros = [int(input(f\"Digite o {i + 1}º número: \")) for i in range(3)]\n",
    "# print(i)\n",
    "\n",
    "# verificando se cada número é par ou ímpar e imprime o resultado\n",
    "for numero in numeros:\n",
    "    if numero % 2 == 0:\n",
    "        print(f\"Par: {numero}\")\n",
    "    else:\n",
    "        print(f\"Ímpar: {numero}\")"
   ]
  },
  {
   "cell_type": "markdown",
   "id": "d98f855f",
   "metadata": {
    "heading_collapsed": true,
    "hidden": true
   },
   "source": [
    "### ex. 3"
   ]
  },
  {
   "cell_type": "code",
   "execution_count": 4,
   "id": "8bb6d21e",
   "metadata": {
    "ExecuteTime": {
     "end_time": "2024-01-17T12:54:31.944455Z",
     "start_time": "2024-01-17T12:54:31.937038Z"
    },
    "hidden": true
   },
   "outputs": [
    {
     "name": "stdout",
     "output_type": "stream",
     "text": [
      "Numeros pares de 0 a 20: [0, 2, 4, 6, 8, 10, 12, 14, 16, 18, 20] \n"
     ]
    }
   ],
   "source": [
    "# Escreva um código Python para imprimir os números pares de 0 até 20 (incluso).\n",
    "# Importante: Aplique a função range() em seu código.\n",
    "\n",
    "pares = [values for values in range(0, 21) if values % 2 == 0]\n",
    "print(f\"Numeros pares de 0 a 20: {pares} \")\n",
    "\n",
    "# Udemy\n",
    "# for pares in range (0,21,2)\n",
    "#     print(pares)"
   ]
  },
  {
   "cell_type": "markdown",
   "id": "3c1cd735",
   "metadata": {
    "heading_collapsed": true,
    "hidden": true
   },
   "source": [
    "### ex. 4"
   ]
  },
  {
   "cell_type": "code",
   "execution_count": 5,
   "id": "68e0c62b",
   "metadata": {
    "ExecuteTime": {
     "end_time": "2024-01-17T12:55:30.123464Z",
     "start_time": "2024-01-17T12:55:30.113454Z"
    },
    "collapsed": true,
    "hidden": true
   },
   "outputs": [
    {
     "name": "stdout",
     "output_type": "stream",
     "text": [
      "2\n",
      "3\n",
      "5\n",
      "7\n",
      "11\n",
      "13\n",
      "17\n",
      "19\n",
      "23\n",
      "29\n",
      "31\n",
      "37\n",
      "41\n",
      "43\n",
      "47\n",
      "53\n",
      "59\n",
      "61\n",
      "67\n",
      "71\n",
      "73\n",
      "79\n",
      "83\n",
      "89\n",
      "97\n"
     ]
    }
   ],
   "source": [
    "# Escreva um código Python para imprimir todos os números primos entre 1 até 100. Lembre-se que você deverá desenvolver o cálculo que identifica se um número é primo ou não.\n",
    "# Importante: Aplique a função range().\n",
    "\n",
    "# Imprime todos os números primos entre 1 e 100\n",
    "for num in range(1, 101):\n",
    "    if num > 1 and all(num % i != 0 for i in range(2, int(num**0.5) + 1)):               \n",
    "        print(num)"
   ]
  },
  {
   "cell_type": "markdown",
   "id": "baae7a8d",
   "metadata": {
    "heading_collapsed": true,
    "hidden": true
   },
   "source": [
    "### ex. 5"
   ]
  },
  {
   "cell_type": "code",
   "execution_count": 56,
   "id": "f076db6f",
   "metadata": {
    "ExecuteTime": {
     "end_time": "2024-01-11T19:20:42.993704Z",
     "start_time": "2024-01-11T19:20:42.978582Z"
    },
    "hidden": true
   },
   "outputs": [
    {
     "name": "stdout",
     "output_type": "stream",
     "text": [
      "22/10/2022\n"
     ]
    }
   ],
   "source": [
    "# Escreva um código Python que declara 3 variáveis:\n",
    "# dia, inicializada com valor 22 mes, inicializada com valor 10 e ano, inicializada com valor 2022\n",
    "# Como saída, você deverá imprimir a data correspondente, no formato a seguir dia/mes/ano.\n",
    "\n",
    "# importando modulo datetime\n",
    "from datetime import date\n",
    "\n",
    "dia = 22\n",
    "mes = 10\n",
    "ano = 2022\n",
    "\n",
    "d = date(ano, mes, dia)\n",
    "print(d.strftime('%d/%m/%Y'))"
   ]
  },
  {
   "cell_type": "markdown",
   "id": "200172b4",
   "metadata": {
    "heading_collapsed": true
   },
   "source": [
    "# Section 4. (6 to 20)"
   ]
  },
  {
   "cell_type": "markdown",
   "id": "0c88463c",
   "metadata": {
    "heading_collapsed": true,
    "hidden": true
   },
   "source": [
    "### ex. 6"
   ]
  },
  {
   "cell_type": "code",
   "execution_count": 9,
   "id": "57dd8ca6",
   "metadata": {
    "ExecuteTime": {
     "end_time": "2024-01-17T13:01:29.048117Z",
     "start_time": "2024-01-17T13:01:29.024374Z"
    },
    "hidden": true
   },
   "outputs": [
    {
     "name": "stdout",
     "output_type": "stream",
     "text": [
      "[1, 2, 3, 5, 8, 14]\n"
     ]
    }
   ],
   "source": [
    "# Considere as duas listas abaixo:\n",
    "\n",
    "# a = [1, 1, 2, 3, 5, 8, 14, 21, 34, 55, 89]\n",
    "# b = [1, 2, 3, 4, 5, 6, 7, 8, 9, 10, 11, 12, 13, 14, 15]\n",
    "\n",
    "# Escreva um programa para avaliar o que ambas as listas têm em comum (sem repetições), imprimindo a lista de valores da interseção na saída padrão.\n",
    "# Importante:  Esperamos que você utilize o construtor set() em seu código.\n",
    "\n",
    "a = [1, 1, 2, 3, 5, 8, 14, 21, 34, 55, 89]\n",
    "b = [1, 2, 3, 4, 5, 6, 7, 8, 9, 10, 11, 12, 13, 14, 15]\n",
    "\n",
    "# # primeira forma de fazer\n",
    "# lista = set([elemento for elemento in a if elemento in b])\n",
    "# lista\n",
    "\n",
    "## OR\n",
    "\n",
    "c1 = set(a)\n",
    "c2 = set(b)\n",
    "\n",
    "intersecao = c1.intersection(c2)\n",
    "\n",
    "print(list(intersecao))\n",
    "\n",
    "# print(set(a) & set(b))"
   ]
  },
  {
   "cell_type": "markdown",
   "id": "c3f4c49b",
   "metadata": {
    "heading_collapsed": true,
    "hidden": true
   },
   "source": [
    "### ex. 7"
   ]
  },
  {
   "cell_type": "code",
   "execution_count": 85,
   "id": "a22db749",
   "metadata": {
    "ExecuteTime": {
     "end_time": "2024-01-11T20:04:04.627291Z",
     "start_time": "2024-01-11T20:04:04.606294Z"
    },
    "hidden": true
   },
   "outputs": [
    {
     "name": "stdout",
     "output_type": "stream",
     "text": [
      "[1, 9, 25, 49, 81]\n"
     ]
    }
   ],
   "source": [
    "# Dada a seguinte lista:\n",
    "\n",
    "# Faça um programa que gere uma nova lista contendo apenas números ímpares.\n",
    "    \n",
    "a = [1, 4, 9, 16, 25, 36, 49, 64, 81, 100]\n",
    "\n",
    "impares = [values for values in a if values % 2 != 0]\n",
    "print(list(impares))        "
   ]
  },
  {
   "cell_type": "markdown",
   "id": "6cab01dc",
   "metadata": {
    "heading_collapsed": true,
    "hidden": true
   },
   "source": [
    "### ex. 8"
   ]
  },
  {
   "cell_type": "code",
   "execution_count": 10,
   "id": "e0e57a81",
   "metadata": {
    "ExecuteTime": {
     "end_time": "2024-01-17T13:12:50.062613Z",
     "start_time": "2024-01-17T13:12:50.050377Z"
    },
    "collapsed": true,
    "hidden": true
   },
   "outputs": [
    {
     "name": "stdout",
     "output_type": "stream",
     "text": [
      "A palavra: maça não é um palíndromo\n",
      "A palavra: arara é um palíndromo\n",
      "A palavra: audio não é um palíndromo\n",
      "A palavra: radio não é um palíndromo\n",
      "A palavra: radar é um palíndromo\n",
      "A palavra: moto não é um palíndromo\n"
     ]
    }
   ],
   "source": [
    "# Verifique se cada uma das palavras da lista ['maça', 'arara', 'audio', 'radio', 'radar', 'moto'] é ou não um palíndromo.\n",
    "\n",
    "# Obs: Palíndromo é uma palavra que permanece igual se lida de traz pra frente.\n",
    "\n",
    "palavras = ['maça', 'arara', 'audio', 'radio', 'radar', 'moto']\n",
    "\n",
    "invertidas = [\n",
    "    f\"A palavra: {palavra} é um palíndromo\" if palavra == palavra[::-1] else f\"A palavra: {palavra} não é um palíndromo\"\n",
    "    for palavra in palavras\n",
    "]\n",
    "\n",
    "for p in invertidas:\n",
    "    print(p)"
   ]
  },
  {
   "cell_type": "markdown",
   "id": "545d5540",
   "metadata": {
    "heading_collapsed": true,
    "hidden": true
   },
   "source": [
    "### ex. 9"
   ]
  },
  {
   "cell_type": "code",
   "execution_count": 126,
   "id": "9636e3cc",
   "metadata": {
    "ExecuteTime": {
     "end_time": "2024-01-12T06:03:15.012195Z",
     "start_time": "2024-01-12T06:03:14.997198Z"
    },
    "hidden": true
   },
   "outputs": [
    {
     "name": "stdout",
     "output_type": "stream",
     "text": [
      "0 - João Soares está com 19 anos\n",
      "1 - Douglas Souza está com 28 anos\n",
      "2 - Lucas Silveira está com 25 anos\n",
      "3 - José Pedreira está com 31 anos\n"
     ]
    }
   ],
   "source": [
    "# Dada as listas a seguir:\n",
    "# Faça um programa que imprima o dados na seguinte estrutura: \"índice - primeiroNome sobreNome está com idade anos\".\n",
    "\n",
    "# Exemplo:\n",
    "\n",
    "# 0 - João Soares está com 19 anos\n",
    "\n",
    "primeirosNomes = ['João', 'Douglas', 'Lucas', 'José']\n",
    "sobreNomes = ['Soares', 'Souza', 'Silveira', 'Pedreira']\n",
    "idades = [19, 28, 25, 31]\n",
    "\n",
    "for index, (primeirosNome, sobreNome, idade) in enumerate(zip(primeirosNomes, sobreNomes, idades)):\n",
    "      print(f'{index} - {primeirosNome} {sobreNome} está com {idade} anos')"
   ]
  },
  {
   "cell_type": "markdown",
   "id": "6f376a3a",
   "metadata": {
    "heading_collapsed": true,
    "hidden": true
   },
   "source": [
    "### ex. 10"
   ]
  },
  {
   "cell_type": "code",
   "execution_count": 184,
   "id": "78ecbbbd",
   "metadata": {
    "ExecuteTime": {
     "end_time": "2024-01-12T06:27:12.523311Z",
     "start_time": "2024-01-12T06:27:12.503075Z"
    },
    "hidden": true
   },
   "outputs": [
    {
     "name": "stdout",
     "output_type": "stream",
     "text": [
      "['123', 'abc']\n"
     ]
    }
   ],
   "source": [
    "# Escreva uma função que recebe uma lista e retorna uma nova lista sem elementos duplicados. Utilize a lista a seguir para testar sua função.\n",
    "\n",
    "# ['abc', 'abc', 'abc', '123', 'abc', '123', '123']\n",
    "\n",
    "def receber_lista(l):    \n",
    "    return list(set(l))\n",
    "\n",
    "lista = ['abc', 'abc', 'abc', '123', 'abc', '123', '123']\n",
    "print(receber_lista(lista))"
   ]
  },
  {
   "cell_type": "markdown",
   "id": "63b01819",
   "metadata": {
    "heading_collapsed": true,
    "hidden": true
   },
   "source": [
    "### ex. 11"
   ]
  },
  {
   "cell_type": "code",
   "execution_count": 209,
   "id": "9476430a",
   "metadata": {
    "ExecuteTime": {
     "end_time": "2024-01-12T06:49:35.586210Z",
     "start_time": "2024-01-12T06:49:35.568241Z"
    },
    "hidden": true
   },
   "outputs": [
    {
     "name": "stdout",
     "output_type": "stream",
     "text": [
      "Teste exercicio python\n"
     ]
    }
   ],
   "source": [
    "# Escreva um programa para ler o conteúdo do arquivo texto arquivo_texto.txt e imprimir o seu conteúdo.\n",
    "\n",
    "with open('arquivo_texto.txt', mode='r', encoding=\"utf-8\") as f:\n",
    "    read_data = f.read()\n",
    "    print(read_data)"
   ]
  },
  {
   "cell_type": "markdown",
   "id": "5581da6d",
   "metadata": {
    "heading_collapsed": true,
    "hidden": true
   },
   "source": [
    "### ex. 12"
   ]
  },
  {
   "cell_type": "code",
   "execution_count": 11,
   "id": "a83779ea",
   "metadata": {
    "ExecuteTime": {
     "end_time": "2024-01-17T13:26:23.711710Z",
     "start_time": "2024-01-17T13:26:23.421245Z"
    },
    "hidden": true
   },
   "outputs": [
    {
     "ename": "JSONDecodeError",
     "evalue": "Expecting property name enclosed in double quotes: line 1 column 2 (char 1)",
     "output_type": "error",
     "traceback": [
      "\u001b[1;31m---------------------------------------------------------------------------\u001b[0m",
      "\u001b[1;31mJSONDecodeError\u001b[0m                           Traceback (most recent call last)",
      "Input \u001b[1;32mIn [11]\u001b[0m, in \u001b[0;36m<cell line: 5>\u001b[1;34m()\u001b[0m\n\u001b[0;32m      3\u001b[0m \u001b[38;5;28;01mimport\u001b[39;00m \u001b[38;5;21;01mjson\u001b[39;00m\n\u001b[0;32m      5\u001b[0m \u001b[38;5;28;01mwith\u001b[39;00m \u001b[38;5;28mopen\u001b[39m(\u001b[38;5;124m\"\u001b[39m\u001b[38;5;124mperson.json\u001b[39m\u001b[38;5;124m\"\u001b[39m) \u001b[38;5;28;01mas\u001b[39;00m arquivo_json:\n\u001b[1;32m----> 7\u001b[0m     data \u001b[38;5;241m=\u001b[39m \u001b[43mjson\u001b[49m\u001b[38;5;241;43m.\u001b[39;49m\u001b[43mload\u001b[49m\u001b[43m(\u001b[49m\u001b[43marquivo_json\u001b[49m\u001b[43m)\u001b[49m\n\u001b[0;32m      9\u001b[0m     \u001b[38;5;28mprint\u001b[39m(data)\n",
      "File \u001b[1;32m~\\anaconda3\\envs\\fundamentos\\lib\\json\\__init__.py:293\u001b[0m, in \u001b[0;36mload\u001b[1;34m(fp, cls, object_hook, parse_float, parse_int, parse_constant, object_pairs_hook, **kw)\u001b[0m\n\u001b[0;32m    274\u001b[0m \u001b[38;5;28;01mdef\u001b[39;00m \u001b[38;5;21mload\u001b[39m(fp, \u001b[38;5;241m*\u001b[39m, \u001b[38;5;28mcls\u001b[39m\u001b[38;5;241m=\u001b[39m\u001b[38;5;28;01mNone\u001b[39;00m, object_hook\u001b[38;5;241m=\u001b[39m\u001b[38;5;28;01mNone\u001b[39;00m, parse_float\u001b[38;5;241m=\u001b[39m\u001b[38;5;28;01mNone\u001b[39;00m,\n\u001b[0;32m    275\u001b[0m         parse_int\u001b[38;5;241m=\u001b[39m\u001b[38;5;28;01mNone\u001b[39;00m, parse_constant\u001b[38;5;241m=\u001b[39m\u001b[38;5;28;01mNone\u001b[39;00m, object_pairs_hook\u001b[38;5;241m=\u001b[39m\u001b[38;5;28;01mNone\u001b[39;00m, \u001b[38;5;241m*\u001b[39m\u001b[38;5;241m*\u001b[39mkw):\n\u001b[0;32m    276\u001b[0m     \u001b[38;5;124;03m\"\"\"Deserialize ``fp`` (a ``.read()``-supporting file-like object containing\u001b[39;00m\n\u001b[0;32m    277\u001b[0m \u001b[38;5;124;03m    a JSON document) to a Python object.\u001b[39;00m\n\u001b[0;32m    278\u001b[0m \n\u001b[1;32m   (...)\u001b[0m\n\u001b[0;32m    291\u001b[0m \u001b[38;5;124;03m    kwarg; otherwise ``JSONDecoder`` is used.\u001b[39;00m\n\u001b[0;32m    292\u001b[0m \u001b[38;5;124;03m    \"\"\"\u001b[39;00m\n\u001b[1;32m--> 293\u001b[0m     \u001b[38;5;28;01mreturn\u001b[39;00m \u001b[43mloads\u001b[49m\u001b[43m(\u001b[49m\u001b[43mfp\u001b[49m\u001b[38;5;241;43m.\u001b[39;49m\u001b[43mread\u001b[49m\u001b[43m(\u001b[49m\u001b[43m)\u001b[49m\u001b[43m,\u001b[49m\n\u001b[0;32m    294\u001b[0m \u001b[43m        \u001b[49m\u001b[38;5;28;43mcls\u001b[39;49m\u001b[38;5;241;43m=\u001b[39;49m\u001b[38;5;28;43mcls\u001b[39;49m\u001b[43m,\u001b[49m\u001b[43m \u001b[49m\u001b[43mobject_hook\u001b[49m\u001b[38;5;241;43m=\u001b[39;49m\u001b[43mobject_hook\u001b[49m\u001b[43m,\u001b[49m\n\u001b[0;32m    295\u001b[0m \u001b[43m        \u001b[49m\u001b[43mparse_float\u001b[49m\u001b[38;5;241;43m=\u001b[39;49m\u001b[43mparse_float\u001b[49m\u001b[43m,\u001b[49m\u001b[43m \u001b[49m\u001b[43mparse_int\u001b[49m\u001b[38;5;241;43m=\u001b[39;49m\u001b[43mparse_int\u001b[49m\u001b[43m,\u001b[49m\n\u001b[0;32m    296\u001b[0m \u001b[43m        \u001b[49m\u001b[43mparse_constant\u001b[49m\u001b[38;5;241;43m=\u001b[39;49m\u001b[43mparse_constant\u001b[49m\u001b[43m,\u001b[49m\u001b[43m \u001b[49m\u001b[43mobject_pairs_hook\u001b[49m\u001b[38;5;241;43m=\u001b[39;49m\u001b[43mobject_pairs_hook\u001b[49m\u001b[43m,\u001b[49m\u001b[43m \u001b[49m\u001b[38;5;241;43m*\u001b[39;49m\u001b[38;5;241;43m*\u001b[39;49m\u001b[43mkw\u001b[49m\u001b[43m)\u001b[49m\n",
      "File \u001b[1;32m~\\anaconda3\\envs\\fundamentos\\lib\\json\\__init__.py:357\u001b[0m, in \u001b[0;36mloads\u001b[1;34m(s, cls, object_hook, parse_float, parse_int, parse_constant, object_pairs_hook, **kw)\u001b[0m\n\u001b[0;32m    352\u001b[0m     \u001b[38;5;28;01mdel\u001b[39;00m kw[\u001b[38;5;124m'\u001b[39m\u001b[38;5;124mencoding\u001b[39m\u001b[38;5;124m'\u001b[39m]\n\u001b[0;32m    354\u001b[0m \u001b[38;5;28;01mif\u001b[39;00m (\u001b[38;5;28mcls\u001b[39m \u001b[38;5;129;01mis\u001b[39;00m \u001b[38;5;28;01mNone\u001b[39;00m \u001b[38;5;129;01mand\u001b[39;00m object_hook \u001b[38;5;129;01mis\u001b[39;00m \u001b[38;5;28;01mNone\u001b[39;00m \u001b[38;5;129;01mand\u001b[39;00m\n\u001b[0;32m    355\u001b[0m         parse_int \u001b[38;5;129;01mis\u001b[39;00m \u001b[38;5;28;01mNone\u001b[39;00m \u001b[38;5;129;01mand\u001b[39;00m parse_float \u001b[38;5;129;01mis\u001b[39;00m \u001b[38;5;28;01mNone\u001b[39;00m \u001b[38;5;129;01mand\u001b[39;00m\n\u001b[0;32m    356\u001b[0m         parse_constant \u001b[38;5;129;01mis\u001b[39;00m \u001b[38;5;28;01mNone\u001b[39;00m \u001b[38;5;129;01mand\u001b[39;00m object_pairs_hook \u001b[38;5;129;01mis\u001b[39;00m \u001b[38;5;28;01mNone\u001b[39;00m \u001b[38;5;129;01mand\u001b[39;00m \u001b[38;5;129;01mnot\u001b[39;00m kw):\n\u001b[1;32m--> 357\u001b[0m     \u001b[38;5;28;01mreturn\u001b[39;00m \u001b[43m_default_decoder\u001b[49m\u001b[38;5;241;43m.\u001b[39;49m\u001b[43mdecode\u001b[49m\u001b[43m(\u001b[49m\u001b[43ms\u001b[49m\u001b[43m)\u001b[49m\n\u001b[0;32m    358\u001b[0m \u001b[38;5;28;01mif\u001b[39;00m \u001b[38;5;28mcls\u001b[39m \u001b[38;5;129;01mis\u001b[39;00m \u001b[38;5;28;01mNone\u001b[39;00m:\n\u001b[0;32m    359\u001b[0m     \u001b[38;5;28mcls\u001b[39m \u001b[38;5;241m=\u001b[39m JSONDecoder\n",
      "File \u001b[1;32m~\\anaconda3\\envs\\fundamentos\\lib\\json\\decoder.py:337\u001b[0m, in \u001b[0;36mJSONDecoder.decode\u001b[1;34m(self, s, _w)\u001b[0m\n\u001b[0;32m    332\u001b[0m \u001b[38;5;28;01mdef\u001b[39;00m \u001b[38;5;21mdecode\u001b[39m(\u001b[38;5;28mself\u001b[39m, s, _w\u001b[38;5;241m=\u001b[39mWHITESPACE\u001b[38;5;241m.\u001b[39mmatch):\n\u001b[0;32m    333\u001b[0m     \u001b[38;5;124;03m\"\"\"Return the Python representation of ``s`` (a ``str`` instance\u001b[39;00m\n\u001b[0;32m    334\u001b[0m \u001b[38;5;124;03m    containing a JSON document).\u001b[39;00m\n\u001b[0;32m    335\u001b[0m \n\u001b[0;32m    336\u001b[0m \u001b[38;5;124;03m    \"\"\"\u001b[39;00m\n\u001b[1;32m--> 337\u001b[0m     obj, end \u001b[38;5;241m=\u001b[39m \u001b[38;5;28;43mself\u001b[39;49m\u001b[38;5;241;43m.\u001b[39;49m\u001b[43mraw_decode\u001b[49m\u001b[43m(\u001b[49m\u001b[43ms\u001b[49m\u001b[43m,\u001b[49m\u001b[43m \u001b[49m\u001b[43midx\u001b[49m\u001b[38;5;241;43m=\u001b[39;49m\u001b[43m_w\u001b[49m\u001b[43m(\u001b[49m\u001b[43ms\u001b[49m\u001b[43m,\u001b[49m\u001b[43m \u001b[49m\u001b[38;5;241;43m0\u001b[39;49m\u001b[43m)\u001b[49m\u001b[38;5;241;43m.\u001b[39;49m\u001b[43mend\u001b[49m\u001b[43m(\u001b[49m\u001b[43m)\u001b[49m\u001b[43m)\u001b[49m\n\u001b[0;32m    338\u001b[0m     end \u001b[38;5;241m=\u001b[39m _w(s, end)\u001b[38;5;241m.\u001b[39mend()\n\u001b[0;32m    339\u001b[0m     \u001b[38;5;28;01mif\u001b[39;00m end \u001b[38;5;241m!=\u001b[39m \u001b[38;5;28mlen\u001b[39m(s):\n",
      "File \u001b[1;32m~\\anaconda3\\envs\\fundamentos\\lib\\json\\decoder.py:353\u001b[0m, in \u001b[0;36mJSONDecoder.raw_decode\u001b[1;34m(self, s, idx)\u001b[0m\n\u001b[0;32m    344\u001b[0m \u001b[38;5;124;03m\"\"\"Decode a JSON document from ``s`` (a ``str`` beginning with\u001b[39;00m\n\u001b[0;32m    345\u001b[0m \u001b[38;5;124;03ma JSON document) and return a 2-tuple of the Python\u001b[39;00m\n\u001b[0;32m    346\u001b[0m \u001b[38;5;124;03mrepresentation and the index in ``s`` where the document ended.\u001b[39;00m\n\u001b[1;32m   (...)\u001b[0m\n\u001b[0;32m    350\u001b[0m \n\u001b[0;32m    351\u001b[0m \u001b[38;5;124;03m\"\"\"\u001b[39;00m\n\u001b[0;32m    352\u001b[0m \u001b[38;5;28;01mtry\u001b[39;00m:\n\u001b[1;32m--> 353\u001b[0m     obj, end \u001b[38;5;241m=\u001b[39m \u001b[38;5;28;43mself\u001b[39;49m\u001b[38;5;241;43m.\u001b[39;49m\u001b[43mscan_once\u001b[49m\u001b[43m(\u001b[49m\u001b[43ms\u001b[49m\u001b[43m,\u001b[49m\u001b[43m \u001b[49m\u001b[43midx\u001b[49m\u001b[43m)\u001b[49m\n\u001b[0;32m    354\u001b[0m \u001b[38;5;28;01mexcept\u001b[39;00m \u001b[38;5;167;01mStopIteration\u001b[39;00m \u001b[38;5;28;01mas\u001b[39;00m err:\n\u001b[0;32m    355\u001b[0m     \u001b[38;5;28;01mraise\u001b[39;00m JSONDecodeError(\u001b[38;5;124m\"\u001b[39m\u001b[38;5;124mExpecting value\u001b[39m\u001b[38;5;124m\"\u001b[39m, s, err\u001b[38;5;241m.\u001b[39mvalue) \u001b[38;5;28;01mfrom\u001b[39;00m \u001b[38;5;28mNone\u001b[39m\n",
      "\u001b[1;31mJSONDecodeError\u001b[0m: Expecting property name enclosed in double quotes: line 1 column 2 (char 1)"
     ]
    }
   ],
   "source": [
    "# Leia o arquivo person.json, faça o parsing e imprima seu conteúdo.\n",
    "\n",
    "import json\n",
    "\n",
    "with open(\"person.json\") as arquivo_json:\n",
    "\n",
    "    data = json.load(arquivo_json)\n",
    "\n",
    "    print(data)        "
   ]
  },
  {
   "cell_type": "markdown",
   "id": "da5f3019",
   "metadata": {
    "heading_collapsed": true,
    "hidden": true
   },
   "source": [
    "### ex. 13"
   ]
  },
  {
   "cell_type": "code",
   "execution_count": 12,
   "id": "cd5022b7",
   "metadata": {
    "ExecuteTime": {
     "end_time": "2024-01-17T13:27:39.527089Z",
     "start_time": "2024-01-17T13:27:39.503433Z"
    },
    "hidden": true
   },
   "outputs": [
    {
     "name": "stdout",
     "output_type": "stream",
     "text": [
      "[1, 4, 9, 16, 25, 36, 49, 64, 81, 100]\n"
     ]
    }
   ],
   "source": [
    "# Implemente a função my_map(list, f) que recebe uma lista como primeiro argumento e uma função como segundo argumento. Esta função aplica a função recebida para cada elemento da lista recebida e retorna o resultado em uma nova lista.\n",
    "\n",
    "# Teste sua função com a lista de entrada [1, 2, 3, 4, 5, 6, 7, 8, 9, 10] e com uma função que potência de 2 para cada elemento.\n",
    "\n",
    "lista_entrada = [1, 2, 3, 4, 5, 6, 7, 8, 9, 10]\n",
    "\n",
    "def eleva_potencia(x):\n",
    "    return x ** 2\n",
    "\n",
    "def my_map(lista, f):    \n",
    "    nova_lista = []    \n",
    "    \n",
    "    for i in lista:\n",
    "        nova_lista.append(f(i))        \n",
    "        \n",
    "    return nova_lista\n",
    "\n",
    "lista_final = my_map(lista_entrada, eleva_potencia)\n",
    "\n",
    "print(lista_final)"
   ]
  },
  {
   "cell_type": "markdown",
   "id": "0e55e070",
   "metadata": {
    "heading_collapsed": true,
    "hidden": true
   },
   "source": [
    "### ex. 14"
   ]
  },
  {
   "cell_type": "code",
   "execution_count": 116,
   "id": "09a6bd47",
   "metadata": {
    "ExecuteTime": {
     "end_time": "2024-01-12T20:52:06.644379Z",
     "start_time": "2024-01-12T20:52:06.630801Z"
    },
    "hidden": true
   },
   "outputs": [
    {
     "name": "stdout",
     "output_type": "stream",
     "text": [
      "1\n",
      "3\n",
      "4\n",
      "hello\n",
      "alguma coisa\n",
      "20\n"
     ]
    }
   ],
   "source": [
    "# Escreva uma função que recebe um número variável de parâmetros não nomeados e um número variado de parâmetros nomeados e imprime o valor de cada parâmetro recebido.\n",
    "\n",
    "# Teste sua função com os seguintes parâmetros:\n",
    "\n",
    "def parametros(*nao_nomeados, **nomeados):\n",
    "    for p in nao_nomeados:\n",
    "        print(p)\n",
    "        \n",
    "    for k, v in nomeados.items():\n",
    "        print(f\"{v}\")\n",
    "\n",
    "parametros(1, 3, 4, 'hello')\n",
    "parametros(parametro_nomeado='alguma coisa', x=20)"
   ]
  },
  {
   "cell_type": "markdown",
   "id": "322bcedb",
   "metadata": {
    "heading_collapsed": true,
    "hidden": true
   },
   "source": [
    "### ex. 15"
   ]
  },
  {
   "cell_type": "code",
   "execution_count": 323,
   "id": "b2505437",
   "metadata": {
    "ExecuteTime": {
     "end_time": "2024-01-12T08:44:08.457207Z",
     "start_time": "2024-01-12T08:44:08.431604Z"
    },
    "hidden": true
   },
   "outputs": [
    {
     "name": "stdout",
     "output_type": "stream",
     "text": [
      "A lampada esta ligada?  True\n",
      "A lâmpada ainda está ligada? False\n"
     ]
    }
   ],
   "source": [
    "# Implemente a classe Lampada. A classe Lâmpada recebe um booleano no seu construtor, Truese a lâmpada estiver ligada, False caso esteja desligada. A classe Lampada possuí os seguintes métodos:\n",
    "\n",
    "# liga(): muda o estado da lâmpada para ligada\n",
    "# desliga(): muda o estado da lâmpada para desligada\n",
    "# esta_ligada(): retorna verdadeiro se a lâmpada estiver ligada, falso caso contrário\n",
    "# Para testar sua classe:\n",
    "\n",
    "# Ligue a Lampada\n",
    "# Imprima: A lâmpada está ligada? True\n",
    "# Desligue a Lampada\n",
    "# Imprima: A lâmpada ainda está ligada? False\n",
    "\n",
    "class Lampada:\n",
    "    def __init__(self, ligada=False):\n",
    "        self.ligada = ligada        \n",
    "        \n",
    "    def liga(self):\n",
    "        self.ligada = True        \n",
    "        \n",
    "    def desliga(self):        \n",
    "        self.ligada = False        \n",
    "        \n",
    "    def esta_ligada(self):\n",
    "        return self.ligada\n",
    "    \n",
    "lampada = Lampada()\n",
    "\n",
    "lampada.liga()\n",
    "\n",
    "print('A lampada esta ligada? ', lampada.esta_ligada())\n",
    "\n",
    "lampada.desliga()\n",
    "\n",
    "print(\"A lâmpada ainda está ligada?\", lampada.esta_ligada())"
   ]
  },
  {
   "cell_type": "markdown",
   "id": "e671338d",
   "metadata": {
    "heading_collapsed": true,
    "hidden": true
   },
   "source": [
    "### ex. 16"
   ]
  },
  {
   "cell_type": "code",
   "execution_count": 126,
   "id": "3f6e0976",
   "metadata": {
    "ExecuteTime": {
     "end_time": "2024-01-12T20:58:05.234736Z",
     "start_time": "2024-01-12T20:58:05.217585Z"
    },
    "hidden": true
   },
   "outputs": [
    {
     "name": "stdout",
     "output_type": "stream",
     "text": [
      "100\n"
     ]
    }
   ],
   "source": [
    "# Escreva uma função que recebe uma string de números separados por vírgula e retorne a soma de todos eles. Depois imprima a soma dos valores.\n",
    "# A string deve ter valor  \"1,3,4,6,10,76\"\n",
    "\n",
    "def soma_valores(elementos):\n",
    "    # Divide a string em uma lista de strings usando a vírgula como separador\n",
    "    valores = elementos.split(',')    \n",
    "    #print(valores)\n",
    "\n",
    "    # Converte cada string na lista para um número inteiro\n",
    "    somando_valores = sum([int(v) for v in valores])\n",
    "\n",
    "    return somando_valores\n",
    "\n",
    "elementos = '1,3,4,6,10,76'\n",
    "\n",
    "# chamando a função e imprime a soma dos valores\n",
    "soma_final = soma_valores(elementos)\n",
    "print(soma_final)"
   ]
  },
  {
   "cell_type": "markdown",
   "id": "cf10c5ac",
   "metadata": {
    "heading_collapsed": true,
    "hidden": true
   },
   "source": [
    "### ex. 17"
   ]
  },
  {
   "cell_type": "code",
   "execution_count": 13,
   "id": "e2cbbfd1",
   "metadata": {
    "ExecuteTime": {
     "end_time": "2024-01-17T13:30:45.945350Z",
     "start_time": "2024-01-17T13:30:45.927350Z"
    },
    "hidden": true
   },
   "outputs": [
    {
     "name": "stdout",
     "output_type": "stream",
     "text": [
      "[1, 2, 3, 4] [5, 6, 7, 8] [9, 10, 11, 12]\n"
     ]
    }
   ],
   "source": [
    "# Escreva uma função que recebe como parâmetro uma lista e retorna 3 listas: a lista recebida dividida em 3 partes iguais. Teste sua implementação com a lista abaixo:\n",
    "\n",
    "def tres_partes(lista):\n",
    "    tamanho = len(lista)    \n",
    "    \n",
    "    parte = tamanho // 3\n",
    "    parte1 = lista[:parte]\n",
    "    parte2 = lista[parte:2*parte]\n",
    "    parte3 = lista[2*parte:]\n",
    "    \n",
    "    return parte1, parte2, parte3\n",
    "\n",
    "teste_lista = [1, 2, 3, 4, 5, 6, 7, 8, 9, 10, 11, 12]\n",
    "parte1, parte2, parte3 = tres_partes(teste_lista)\n",
    "\n",
    "print(parte1, parte2, parte3)"
   ]
  },
  {
   "cell_type": "markdown",
   "id": "e81b9be0",
   "metadata": {
    "heading_collapsed": true,
    "hidden": true
   },
   "source": [
    "### ex. 18"
   ]
  },
  {
   "cell_type": "code",
   "execution_count": 14,
   "id": "88cb71d6",
   "metadata": {
    "ExecuteTime": {
     "end_time": "2024-01-17T13:31:55.988422Z",
     "start_time": "2024-01-17T13:31:55.966882Z"
    },
    "hidden": true
   },
   "outputs": [
    {
     "name": "stdout",
     "output_type": "stream",
     "text": [
      "[44, 47, 52, 53, 54]\n"
     ]
    }
   ],
   "source": [
    "# Dado o dicionário a seguir:\n",
    "speed = {'jan':47, 'feb':52, 'march':47, 'April':44, 'May':52, 'June':53, 'july':54, 'Aug':44, 'Sept':54}\n",
    "# Crie uma lista com todos os valores (não as chaves!) e coloque numa lista de forma que não haja valores duplicados\n",
    "\n",
    "lista = speed\n",
    "res = []\n",
    "for values in lista.keys() : \n",
    "    res.append(lista[values])\n",
    "    final_result = list(set(res))\n",
    "# print(\"Lista de valores nao duplicados : \" +  str(final_result))\n",
    "\n",
    "## OR ##\n",
    "\n",
    "# cria um conjunto usando metodo 'set' para obter valores únicos e, em seguida, converte para uma lista\n",
    "nao_duplicados = list(set(speed.values()))\n",
    "\n",
    "print(nao_duplicados)"
   ]
  },
  {
   "cell_type": "markdown",
   "id": "37f0024e",
   "metadata": {
    "heading_collapsed": true,
    "hidden": true
   },
   "source": [
    "### ex. 19"
   ]
  },
  {
   "cell_type": "code",
   "execution_count": 15,
   "id": "eee91a3a",
   "metadata": {
    "ExecuteTime": {
     "end_time": "2024-01-17T13:34:11.673152Z",
     "start_time": "2024-01-17T13:34:11.645249Z"
    },
    "hidden": true
   },
   "outputs": [
    {
     "name": "stdout",
     "output_type": "stream",
     "text": [
      "Media: 247.92, Mediana: 257.0, Mínimo: 1, Máximo: 494\n"
     ]
    }
   ],
   "source": [
    "import random\n",
    "import statistics\n",
    "\n",
    "# 50 números aleatoriamente do intervalo 0...500\n",
    "random_list = sorted(random.sample(range(500), 50))\n",
    "\n",
    "# calculando a mediana, média, valor mínimo e valor máximo\n",
    "mediana = statistics.median(random_list)\n",
    "media = sum(random_list) / len(random_list)\n",
    "valor_minimo = min(random_list)\n",
    "valor_maximo = max(random_list)\n",
    "\n",
    "print(f'Media: {media}, Mediana: {mediana}, Mínimo: {valor_minimo}, Máximo: {valor_maximo}')"
   ]
  },
  {
   "cell_type": "markdown",
   "id": "76ebc83c",
   "metadata": {
    "heading_collapsed": true,
    "hidden": true
   },
   "source": [
    "### ex. 20"
   ]
  },
  {
   "cell_type": "code",
   "execution_count": 493,
   "id": "9caba027",
   "metadata": {
    "ExecuteTime": {
     "end_time": "2024-01-12T13:40:45.466252Z",
     "start_time": "2024-01-12T13:40:45.454171Z"
    },
    "hidden": true
   },
   "outputs": [
    {
     "name": "stdout",
     "output_type": "stream",
     "text": [
      "[89, 55, 34, 21, 13, 8, 5, 3, 2, 0, 1]\n"
     ]
    }
   ],
   "source": [
    "# Imprima a lista abaixo de trás para frente.\n",
    "\n",
    "a = [1, 0, 2, 3, 5, 8, 13, 21, 34, 55, 89]\n",
    "\n",
    "lista_invertida = list(reversed(a))\n",
    "\n",
    "print(lista_invertida)"
   ]
  },
  {
   "cell_type": "markdown",
   "id": "8a42f900",
   "metadata": {
    "heading_collapsed": true
   },
   "source": [
    "# Section 6. (21 to 25)"
   ]
  },
  {
   "cell_type": "markdown",
   "id": "1e7d733e",
   "metadata": {
    "heading_collapsed": true,
    "hidden": true
   },
   "source": [
    "### ex. 21"
   ]
  },
  {
   "cell_type": "code",
   "execution_count": 81,
   "id": "13b10e17",
   "metadata": {
    "ExecuteTime": {
     "end_time": "2024-01-12T19:58:52.940798Z",
     "start_time": "2024-01-12T19:58:52.911798Z"
    },
    "hidden": true
   },
   "outputs": [
    {
     "name": "stdout",
     "output_type": "stream",
     "text": [
      "Pato\n",
      "Voando...\n",
      "Pato emitindo som...\n",
      "Quack Quack\n",
      "Pardal\n",
      "Voando...\n",
      "Pato emitindo som...\n",
      "Piu Piu\n"
     ]
    }
   ],
   "source": [
    "# Implemente duas classes, Pato e Pardal , que herdam de uma superclasse chamada Passaro as habilidades de voar e emitir som.\n",
    "# Contudo, tanto Pato quanto Pardal devem emitir sons diferentes (de maneira escrita) no console, conforme o modelo a seguir.\n",
    "# Imprima no console exatamente assim:\n",
    "    \n",
    "# Pato\n",
    "# Voando...\n",
    "# Pato emitindo som...\n",
    "# Quack Quack\n",
    "# Pardal\n",
    "# Voando...\n",
    "# Pardal emitindo som...\n",
    "# Piu Piu\n",
    "\n",
    "class Passaro:\n",
    "    def __init__(self, nome, voar, mensagem, som):\n",
    "        self.nome = nome\n",
    "        self.voar = voar\n",
    "        self.mensagem = mensagem\n",
    "        self.som = som        \n",
    "        \n",
    "    def voar(self):\n",
    "        pass\n",
    "    \n",
    "    def mensagem(self):\n",
    "        pass\n",
    "    \n",
    "    def som(self):\n",
    "        pass\n",
    "\n",
    "class Pato(Passaro):\n",
    "    def __init__(self, nome, voar, mensagem, som):\n",
    "        super().__init__(nome, voar, mensagem, som)        \n",
    "        \n",
    "    def voar(self):\n",
    "        return 'Voando...'\n",
    "    \n",
    "    def mensagem(self):\n",
    "        return 'Pato emitindo som...'\n",
    "    \n",
    "    def som(self):\n",
    "        return 'Quack Quack'\n",
    "\n",
    "class Pardal(Passaro):\n",
    "    def __init__(self, nome, voar, mensagem, som):\n",
    "        super().__init__(nome, voar, mensagem, som)        \n",
    "        \n",
    "    def voar(self):\n",
    "        return 'Voando...'\n",
    "    \n",
    "    def mensagem(self):\n",
    "        return 'Pardal emitindo som...'\n",
    "    \n",
    "    def som(self):\n",
    "        return 'Piu Piu' \n",
    "    \n",
    "pato = Pato('Pato', 'Voando...', 'Pato emitindo som...', 'Quack Quack')\n",
    "pardal = Pato('Pardal', 'Voando...', 'Pato emitindo som...', 'Piu Piu')\n",
    "print(f\"{pato.nome}\")\n",
    "print(f\"{pato.voar}\")\n",
    "print(f\"{pato.mensagem}\")\n",
    "print(f\"{pato.som}\")\n",
    "print(f\"{pardal.nome}\")\n",
    "print(f\"{pardal.voar}\")\n",
    "print(f\"{pardal.mensagem}\")\n",
    "print(f\"{pardal.som}\")"
   ]
  },
  {
   "cell_type": "markdown",
   "id": "ea697c83",
   "metadata": {
    "heading_collapsed": true,
    "hidden": true
   },
   "source": [
    "### ex. 22"
   ]
  },
  {
   "cell_type": "code",
   "execution_count": null,
   "id": "941edc07",
   "metadata": {
    "hidden": true
   },
   "outputs": [],
   "source": [
    "# Crie uma classe chamada Pessoa, com um atributo privado chamado nome (declarado internamente na classe como __nome) e um atributo público de nome id.\n",
    "# Adicione dois métodos à classe, sendo um para definir o valor de __nome e outro para retornar o valor do respectivo atributo.\n",
    "# Lembre-se que o acesso ao atributo privado deve ocorrer somente através dos métodos definidos, nunca diretamente.  Você pode alcançar este comportamento através do recurso de properties do Python.\n",
    "\n",
    "# Veja um exemplo de como seu atributo privado pode ser lido e escrito:\n",
    "\n",
    "# pessoa = Pessoa(0) \n",
    "# pessoa.nome = 'Fulano De Tal'\n",
    "# print(pessoa.nome)"
   ]
  },
  {
   "cell_type": "code",
   "execution_count": 63,
   "id": "dfa10f7f",
   "metadata": {
    "ExecuteTime": {
     "end_time": "2024-01-12T19:44:27.544619Z",
     "start_time": "2024-01-12T19:44:27.522198Z"
    },
    "hidden": true
   },
   "outputs": [
    {
     "name": "stdout",
     "output_type": "stream",
     "text": [
      "Lucas\n"
     ]
    }
   ],
   "source": [
    "class Pessoa:\n",
    "    def __init__(self, identificador):\n",
    "        self.__nome = None  # Atributo privadoprint\n",
    "        #print(self.__nome)\n",
    "        self.id = identificador  # Atributo público\n",
    "\n",
    "    def get_name(self): # método get para acessar o conteúdo do atributo privado\n",
    "        #print(self.__nome)\n",
    "        return self.__nome\n",
    "\n",
    "    def set_name(self, novo_nome): # metodo set para modificar o conteudo do atributo privado\n",
    "        if isinstance(novo_nome, str):\n",
    "            #print(self.__nome)\n",
    "            self.__nome = novo_nome            \n",
    "        else:\n",
    "            print(\"O nome deve ser uma string.\")\n",
    "\n",
    "    # criando e transformando um método em uma propriedade de uma classe\n",
    "    nome = property(get_name, set_name)\n",
    "\n",
    "# chamando classe Pessoa\n",
    "pessoa = Pessoa(0)\n",
    "pessoa.nome = 'Lucas'\n",
    "print(pessoa.nome)"
   ]
  },
  {
   "cell_type": "markdown",
   "id": "015a19ed",
   "metadata": {
    "heading_collapsed": true,
    "hidden": true
   },
   "source": [
    "### ex. 23"
   ]
  },
  {
   "cell_type": "code",
   "execution_count": 111,
   "id": "d0828627",
   "metadata": {
    "ExecuteTime": {
     "end_time": "2024-01-12T20:34:42.898071Z",
     "start_time": "2024-01-12T20:34:42.879091Z"
    },
    "hidden": true
   },
   "outputs": [
    {
     "name": "stdout",
     "output_type": "stream",
     "text": [
      "Somando: 9\n",
      "Subtraindo: -1\n"
     ]
    }
   ],
   "source": [
    "# Crie uma classe  Calculo  que contenha um método que aceita dois parâmetros, X e Y, e retorne a soma dos dois. Nessa mesma classe, implemente um método de subtração, que aceita dois parâmetros, X e Y, e retorne a subtração dos dois (resultados negativos são permitidos).\n",
    "\n",
    "# Utilize os valores abaixo para testar seu exercício:\n",
    "# x = 4 \n",
    "# y = 5\n",
    "\n",
    "# imprima:\n",
    "# Somando: 4+5 = 9\n",
    "# Subtraindo: 4-5 = -1\n",
    "\n",
    "class Calculo:\n",
    "    def __init__(self, x, y):\n",
    "        self.x = x\n",
    "        self.y = y\n",
    "        \n",
    "    def soma(self, x, y):        \n",
    "        return self.x + self.y \n",
    "    \n",
    "    def subtracao(self, x, y):\n",
    "        return self.x - self.y\n",
    "    \n",
    "x = 4\n",
    "y = 5\n",
    "    \n",
    "Somando = Calculo(4 , 5)\n",
    "print(f'Somando: {Somando.soma(4, 5)}')\n",
    "\n",
    "Subtraindo = Calculo(x , y)\n",
    "print(f'Subtraindo: {Subtraindo.subtracao(x, y)}')"
   ]
  },
  {
   "cell_type": "markdown",
   "id": "bf28fb66",
   "metadata": {
    "heading_collapsed": true,
    "hidden": true
   },
   "source": [
    "### ex. 24"
   ]
  },
  {
   "cell_type": "code",
   "execution_count": 117,
   "id": "b94f7c27",
   "metadata": {
    "ExecuteTime": {
     "end_time": "2024-01-12T23:17:50.384573Z",
     "start_time": "2024-01-12T23:17:50.364043Z"
    },
    "hidden": true
   },
   "outputs": [
    {
     "name": "stdout",
     "output_type": "stream",
     "text": [
      "Ordenação Crescente: [1, 2, 3, 4, 5]\n",
      "Ordenação Decrescente: [9, 8, 7, 6]\n"
     ]
    }
   ],
   "source": [
    "# Crie uma classe Ordenadora que contenha um atributo listaBaguncada e que contenha os métodos ordenacaoCrescente e ordenacaoDecrescente.\n",
    "\n",
    "# Instancie um objeto chamado crescente dessa classe Ordenadora que tenha como listaBaguncada a lista [3,4,2,1,5] e instancie um outro objeto, decrescente dessa mesma classe com uma outra listaBaguncada sendo [9,7,6,8].\n",
    "\n",
    "# Para o primeiro objeto citado, use o método ordenacaoCrescente e para o segundo objeto, use o método ordenacaoDecrescente.\n",
    "\n",
    "# Imprima o resultado da ordenação crescente e da ordenação decresce\n",
    "\n",
    "# [1, 2, 3, 4, 5] \n",
    "# [9, 8, 7, 6]\n",
    "\n",
    "class Ordenadora:\n",
    "    def __init__(self, listaBaguncada ):\n",
    "        self.listaBaguncada = listaBaguncada\n",
    "        \n",
    "    def ordenacaoCrescente(self):\n",
    "        self.listaBaguncada.sort()\n",
    "        return self.listaBaguncada\n",
    "        \n",
    "    def ordenacaoDecrescente(self):\n",
    "        self.listaBaguncada.sort(reverse=True)\n",
    "        return self.listaBaguncada\n",
    "        \n",
    "crescente = Ordenadora( [1, 2, 3, 4, 5] )\n",
    "decrescente = Ordenadora( [9, 8, 7, 6] )\n",
    "\n",
    "crescente.ordenacaoCrescente()\n",
    "print(\"Ordenação Crescente:\", crescente.listaBaguncada)\n",
    "\n",
    "decrescente.ordenacaoDecrescente()\n",
    "print(\"Ordenação Decrescente:\", decrescente.listaBaguncada)"
   ]
  },
  {
   "cell_type": "markdown",
   "id": "b271f939",
   "metadata": {
    "heading_collapsed": true,
    "hidden": true
   },
   "source": [
    "### ex. 25"
   ]
  },
  {
   "cell_type": "code",
   "execution_count": 114,
   "id": "bec51ae1",
   "metadata": {
    "ExecuteTime": {
     "end_time": "2024-01-12T23:14:13.887054Z",
     "start_time": "2024-01-12T23:14:13.866184Z"
    },
    "hidden": true
   },
   "outputs": [
    {
     "name": "stdout",
     "output_type": "stream",
     "text": [
      " O avião de modelo BOIENG456 possui uma velocidade máxima de 1500 km/h, capacidade para 400 passageiros e é da cor Azul.\n",
      " O avião de modelo Embraer Praetor 600 possui uma velocidade máxima de 863km/h, capacidade para 14 passageiros e é da cor Azul.\n",
      " O avião de modelo Antonov An-2 possui uma velocidade máxima de 258 Km/, capacidade para 12 passageiros e é da cor Azul.\n"
     ]
    }
   ],
   "source": [
    "# Crie uma classe Avião que possua os atributos modelo, velocidade_maxima, cor e capacidade.\n",
    "\n",
    "# Defina o atributo cor de sua classe , de maneira que todas as instâncias de sua classe avião sejam da cor “azul”.\n",
    "\n",
    "# Após isso, a partir de entradas abaixo, instancie e armazene em uma lista 3 objetos da classe Avião.\n",
    "\n",
    "# Ao final, itere pela lista imprimindo cada um dos objetos no seguinte formato:\n",
    "\n",
    "# “O avião de modelo “x” possui uma velocidade máxima de “y”, capacidade para “z” passageiros e é da cor “w”.\n",
    "\n",
    "# Sendo x, y, z e w cada um dos atributos da classe “Avião”.\n",
    "\n",
    "# Valores de entrada:\n",
    "\n",
    "# modelo BOIENG456: velocidade máxima 1500 km/h: capacidade para 400 passageiros: Cor Azul\n",
    "\n",
    "# modelo Embraer Praetor 600: velocidade máxima 863km/h: capacidade para 14 passageiros: Cor Azul\n",
    "\n",
    "# modelo Antonov An-2: velocidade máxima de 258 Km/h: capacidade para 12 passageiros: Cor Azul\n",
    "\n",
    "class Aviao():\n",
    "    def __init__( self, modelo, velocidade_maxima, cor, capacidade ):\n",
    "        self.modelo = modelo\n",
    "        self.velocidade_maxima = velocidade_maxima\n",
    "        self.cor = 'azul'.title()\n",
    "        self.capacidade = capacidade\n",
    "        \n",
    "    def airplanes( self, x, y, z, w ):\n",
    "        self.x = x\n",
    "        self.y = y\n",
    "        self.z = z\n",
    "        self.w = self.cor\n",
    "#         fly = [self.x, self.y, self.z, self.w]\n",
    "#         for i in fly:\n",
    "#         print(f\"O avião de modelo {x} possui uma velocidade máxima de {y}, capacidade para {z} passageiros: e é da Cor {self.cor}.\")\n",
    "    teste1 = Aviao( 'modelo', 'velocidade_maxima', 'cor', 'capacidade' )\n",
    "    teste1.airplanes( 'BOIENG456', '1500 km/h', '400', 'w' )\n",
    "    teste2 = Aviao( 'modelo', 'velocidade_maxima', 'cor', 'capacidade' )\n",
    "    teste2.airplanes( 'Embraer Praetor 600', '863km/h', '14', 'w' )\n",
    "    teste3 = Aviao( 'modelo', 'velocidade_maxima', 'cor', 'capacidade' )\n",
    "    teste3.airplanes( 'Antonov An-2', '258 Km/', '12', 'w' )\n",
    "\n",
    "    lista_avioes = [teste1, teste2, teste3]\n",
    "    for i in lista_avioes:    \n",
    "        print(f' O avião de modelo {i.x} possui uma velocidade máxima de {i.y}, capacidade para {i.z} passageiros e é da cor {i.w}.' )"
   ]
  }
 ],
 "metadata": {
  "kernelspec": {
   "display_name": "Python 3 (ipykernel)",
   "language": "python",
   "name": "python3"
  },
  "language_info": {
   "codemirror_mode": {
    "name": "ipython",
    "version": 3
   },
   "file_extension": ".py",
   "mimetype": "text/x-python",
   "name": "python",
   "nbconvert_exporter": "python",
   "pygments_lexer": "ipython3",
   "version": "3.8.13"
  }
 },
 "nbformat": 4,
 "nbformat_minor": 5
}
